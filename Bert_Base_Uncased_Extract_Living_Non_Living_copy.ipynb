{
 "cells": [
  {
   "cell_type": "code",
   "execution_count": 1,
   "metadata": {
    "colab": {
     "base_uri": "https://localhost:8080/"
    },
    "id": "Vqda9l4__Ide",
    "outputId": "19eb70a5-70c3-4ed1-d473-7ad5682cc795"
   },
   "outputs": [
    {
     "name": "stdout",
     "output_type": "stream",
     "text": [
      "Requirement already satisfied: seqeval in /home/shreya15096/.conda/envs/virtualEnv/lib/python3.9/site-packages (1.2.2)\n",
      "Requirement already satisfied: scikit-learn>=0.21.3 in /home/shreya15096/.conda/envs/virtualEnv/lib/python3.9/site-packages (from seqeval) (0.24.2)\n",
      "Requirement already satisfied: numpy>=1.14.0 in /home/shreya15096/.conda/envs/virtualEnv/lib/python3.9/site-packages (from seqeval) (1.19.5)\n",
      "Requirement already satisfied: scipy>=0.19.1 in /home/shreya15096/.conda/envs/virtualEnv/lib/python3.9/site-packages (from scikit-learn>=0.21.3->seqeval) (1.7.0)\n",
      "Requirement already satisfied: joblib>=0.11 in /home/shreya15096/.local/lib/python3.9/site-packages (from scikit-learn>=0.21.3->seqeval) (1.0.1)\n",
      "Requirement already satisfied: threadpoolctl>=2.0.0 in /home/shreya15096/.conda/envs/virtualEnv/lib/python3.9/site-packages (from scikit-learn>=0.21.3->seqeval) (2.2.0)\n"
     ]
    }
   ],
   "source": [
    "!pip3 install seqeval"
   ]
  },
  {
   "cell_type": "markdown",
   "metadata": {
    "id": "1zMBBgrH28Bm"
   },
   "source": [
    "# New section"
   ]
  },
  {
   "cell_type": "code",
   "execution_count": 2,
   "metadata": {
    "colab": {
     "base_uri": "https://localhost:8080/"
    },
    "id": "5ZcaYguvMFOn",
    "outputId": "0e358c99-da39-405f-e901-a33c19715079"
   },
   "outputs": [
    {
     "name": "stdout",
     "output_type": "stream",
     "text": [
      "Requirement already satisfied: tensorflow in /home/shreya15096/.conda/envs/virtualEnv/lib/python3.9/site-packages (2.5.0)\n",
      "Requirement already satisfied: wheel~=0.35 in /home/shreya15096/.conda/envs/virtualEnv/lib/python3.9/site-packages (from tensorflow) (0.36.2)\n",
      "Requirement already satisfied: numpy~=1.19.2 in /home/shreya15096/.conda/envs/virtualEnv/lib/python3.9/site-packages (from tensorflow) (1.19.5)\n",
      "Requirement already satisfied: keras-nightly~=2.5.0.dev in /home/shreya15096/.local/lib/python3.9/site-packages (from tensorflow) (2.5.0.dev2021032900)\n",
      "Requirement already satisfied: protobuf>=3.9.2 in /home/shreya15096/.local/lib/python3.9/site-packages (from tensorflow) (3.17.3)\n",
      "Requirement already satisfied: tensorboard~=2.5 in /home/shreya15096/.conda/envs/virtualEnv/lib/python3.9/site-packages (from tensorflow) (2.6.0)\n",
      "Requirement already satisfied: grpcio~=1.34.0 in /home/shreya15096/.conda/envs/virtualEnv/lib/python3.9/site-packages (from tensorflow) (1.34.1)\n",
      "Requirement already satisfied: typing-extensions~=3.7.4 in /home/shreya15096/.local/lib/python3.9/site-packages (from tensorflow) (3.7.4.3)\n",
      "Requirement already satisfied: absl-py~=0.10 in /home/shreya15096/.local/lib/python3.9/site-packages (from tensorflow) (0.13.0)\n",
      "Requirement already satisfied: opt-einsum~=3.3.0 in /home/shreya15096/.local/lib/python3.9/site-packages (from tensorflow) (3.3.0)\n",
      "Requirement already satisfied: tensorflow-estimator<2.6.0,>=2.5.0rc0 in /home/shreya15096/.conda/envs/virtualEnv/lib/python3.9/site-packages (from tensorflow) (2.5.0)\n",
      "Requirement already satisfied: google-pasta~=0.2 in /home/shreya15096/.local/lib/python3.9/site-packages (from tensorflow) (0.2.0)\n",
      "Requirement already satisfied: gast==0.4.0 in /home/shreya15096/.conda/envs/virtualEnv/lib/python3.9/site-packages (from tensorflow) (0.4.0)\n",
      "Requirement already satisfied: termcolor~=1.1.0 in /home/shreya15096/.local/lib/python3.9/site-packages (from tensorflow) (1.1.0)\n",
      "Requirement already satisfied: six~=1.15.0 in /home/shreya15096/.local/lib/python3.9/site-packages (from tensorflow) (1.15.0)\n",
      "Requirement already satisfied: h5py~=3.1.0 in /home/shreya15096/.local/lib/python3.9/site-packages (from tensorflow) (3.1.0)\n",
      "Requirement already satisfied: astunparse~=1.6.3 in /home/shreya15096/.local/lib/python3.9/site-packages (from tensorflow) (1.6.3)\n",
      "Requirement already satisfied: flatbuffers~=1.12.0 in /home/shreya15096/.local/lib/python3.9/site-packages (from tensorflow) (1.12)\n",
      "Requirement already satisfied: wrapt~=1.12.1 in /home/shreya15096/.local/lib/python3.9/site-packages (from tensorflow) (1.12.1)\n",
      "Requirement already satisfied: keras-preprocessing~=1.1.2 in /home/shreya15096/.local/lib/python3.9/site-packages (from tensorflow) (1.1.2)\n",
      "Requirement already satisfied: werkzeug>=0.11.15 in /home/shreya15096/.local/lib/python3.9/site-packages (from tensorboard~=2.5->tensorflow) (2.0.1)\n",
      "Requirement already satisfied: setuptools>=41.0.0 in /home/shreya15096/.conda/envs/virtualEnv/lib/python3.9/site-packages (from tensorboard~=2.5->tensorflow) (52.0.0.post20210125)\n",
      "Requirement already satisfied: google-auth-oauthlib<0.5,>=0.4.1 in /home/shreya15096/.local/lib/python3.9/site-packages (from tensorboard~=2.5->tensorflow) (0.4.4)\n",
      "Requirement already satisfied: markdown>=2.6.8 in /home/shreya15096/.local/lib/python3.9/site-packages (from tensorboard~=2.5->tensorflow) (3.3.4)\n",
      "Requirement already satisfied: requests<3,>=2.21.0 in /home/shreya15096/.local/lib/python3.9/site-packages (from tensorboard~=2.5->tensorflow) (2.26.0)\n",
      "Requirement already satisfied: tensorboard-data-server<0.7.0,>=0.6.0 in /home/shreya15096/.local/lib/python3.9/site-packages (from tensorboard~=2.5->tensorflow) (0.6.1)\n",
      "Requirement already satisfied: google-auth<2,>=1.6.3 in /home/shreya15096/.local/lib/python3.9/site-packages (from tensorboard~=2.5->tensorflow) (1.33.1)\n",
      "Requirement already satisfied: tensorboard-plugin-wit>=1.6.0 in /home/shreya15096/.local/lib/python3.9/site-packages (from tensorboard~=2.5->tensorflow) (1.8.0)\n",
      "Requirement already satisfied: rsa<5,>=3.1.4 in /home/shreya15096/.local/lib/python3.9/site-packages (from google-auth<2,>=1.6.3->tensorboard~=2.5->tensorflow) (4.7.2)\n",
      "Requirement already satisfied: cachetools<5.0,>=2.0.0 in /home/shreya15096/.local/lib/python3.9/site-packages (from google-auth<2,>=1.6.3->tensorboard~=2.5->tensorflow) (4.2.2)\n",
      "Requirement already satisfied: pyasn1-modules>=0.2.1 in /home/shreya15096/.local/lib/python3.9/site-packages (from google-auth<2,>=1.6.3->tensorboard~=2.5->tensorflow) (0.2.8)\n",
      "Requirement already satisfied: requests-oauthlib>=0.7.0 in /home/shreya15096/.local/lib/python3.9/site-packages (from google-auth-oauthlib<0.5,>=0.4.1->tensorboard~=2.5->tensorflow) (1.3.0)\n",
      "Requirement already satisfied: pyasn1<0.5.0,>=0.4.6 in /home/shreya15096/.local/lib/python3.9/site-packages (from pyasn1-modules>=0.2.1->google-auth<2,>=1.6.3->tensorboard~=2.5->tensorflow) (0.4.8)\n",
      "Requirement already satisfied: urllib3<1.27,>=1.21.1 in /home/shreya15096/.local/lib/python3.9/site-packages (from requests<3,>=2.21.0->tensorboard~=2.5->tensorflow) (1.26.6)\n",
      "Requirement already satisfied: idna<4,>=2.5 in /home/shreya15096/.local/lib/python3.9/site-packages (from requests<3,>=2.21.0->tensorboard~=2.5->tensorflow) (3.2)\n",
      "Requirement already satisfied: charset-normalizer~=2.0.0 in /home/shreya15096/.local/lib/python3.9/site-packages (from requests<3,>=2.21.0->tensorboard~=2.5->tensorflow) (2.0.3)\n",
      "Requirement already satisfied: certifi>=2017.4.17 in /home/shreya15096/.conda/envs/virtualEnv/lib/python3.9/site-packages (from requests<3,>=2.21.0->tensorboard~=2.5->tensorflow) (2021.5.30)\n",
      "Requirement already satisfied: oauthlib>=3.0.0 in /home/shreya15096/.local/lib/python3.9/site-packages (from requests-oauthlib>=0.7.0->google-auth-oauthlib<0.5,>=0.4.1->tensorboard~=2.5->tensorflow) (3.1.1)\n",
      "Note: you may need to restart the kernel to use updated packages.\n"
     ]
    }
   ],
   "source": [
    "pip install tensorflow"
   ]
  },
  {
   "cell_type": "code",
   "execution_count": 3,
   "metadata": {
    "id": "tdPnxzl-26_y"
   },
   "outputs": [],
   "source": [
    "import pandas as pd\n",
    "annotations = pd.read_csv(\"chap4_mahabharath.csv\", index_col=['id'])"
   ]
  },
  {
   "cell_type": "code",
   "execution_count": 4,
   "metadata": {
    "colab": {
     "base_uri": "https://localhost:8080/",
     "height": 450
    },
    "id": "laqSEeZwfBRt",
    "outputId": "de5237f1-29bf-4718-e8a6-cf5cb022b3da"
   },
   "outputs": [
    {
     "data": {
      "text/html": [
       "<div>\n",
       "<style scoped>\n",
       "    .dataframe tbody tr th:only-of-type {\n",
       "        vertical-align: middle;\n",
       "    }\n",
       "\n",
       "    .dataframe tbody tr th {\n",
       "        vertical-align: top;\n",
       "    }\n",
       "\n",
       "    .dataframe thead th {\n",
       "        text-align: right;\n",
       "    }\n",
       "</style>\n",
       "<table border=\"1\" class=\"dataframe\">\n",
       "  <thead>\n",
       "    <tr style=\"text-align: right;\">\n",
       "      <th></th>\n",
       "      <th>sentence#</th>\n",
       "      <th>token</th>\n",
       "      <th>tag</th>\n",
       "    </tr>\n",
       "    <tr>\n",
       "      <th>id</th>\n",
       "      <th></th>\n",
       "      <th></th>\n",
       "      <th></th>\n",
       "    </tr>\n",
       "  </thead>\n",
       "  <tbody>\n",
       "    <tr>\n",
       "      <th>0</th>\n",
       "      <td>0</td>\n",
       "      <td>Om</td>\n",
       "      <td>CONCEPT</td>\n",
       "    </tr>\n",
       "    <tr>\n",
       "      <th>1</th>\n",
       "      <td>0</td>\n",
       "      <td>!</td>\n",
       "      <td>O</td>\n",
       "    </tr>\n",
       "    <tr>\n",
       "      <th>2</th>\n",
       "      <td>1</td>\n",
       "      <td>Having</td>\n",
       "      <td>O</td>\n",
       "    </tr>\n",
       "    <tr>\n",
       "      <th>3</th>\n",
       "      <td>1</td>\n",
       "      <td>bowed</td>\n",
       "      <td>O</td>\n",
       "    </tr>\n",
       "    <tr>\n",
       "      <th>4</th>\n",
       "      <td>1</td>\n",
       "      <td>down</td>\n",
       "      <td>O</td>\n",
       "    </tr>\n",
       "    <tr>\n",
       "      <th>...</th>\n",
       "      <td>...</td>\n",
       "      <td>...</td>\n",
       "      <td>...</td>\n",
       "    </tr>\n",
       "    <tr>\n",
       "      <th>830510</th>\n",
       "      <td>34331</td>\n",
       "      <td>The</td>\n",
       "      <td>O</td>\n",
       "    </tr>\n",
       "    <tr>\n",
       "      <th>830511</th>\n",
       "      <td>34331</td>\n",
       "      <td>end</td>\n",
       "      <td>O</td>\n",
       "    </tr>\n",
       "    <tr>\n",
       "      <th>830512</th>\n",
       "      <td>34331</td>\n",
       "      <td>of</td>\n",
       "      <td>O</td>\n",
       "    </tr>\n",
       "    <tr>\n",
       "      <th>830513</th>\n",
       "      <td>34331</td>\n",
       "      <td>Virata</td>\n",
       "      <td>BOOK</td>\n",
       "    </tr>\n",
       "    <tr>\n",
       "      <th>830514</th>\n",
       "      <td>34331</td>\n",
       "      <td>Parva</td>\n",
       "      <td>BOOK</td>\n",
       "    </tr>\n",
       "  </tbody>\n",
       "</table>\n",
       "<p>830515 rows × 3 columns</p>\n",
       "</div>"
      ],
      "text/plain": [
       "        sentence#   token      tag\n",
       "id                                \n",
       "0               0      Om  CONCEPT\n",
       "1               0       !        O\n",
       "2               1  Having        O\n",
       "3               1   bowed        O\n",
       "4               1    down        O\n",
       "...           ...     ...      ...\n",
       "830510      34331     The        O\n",
       "830511      34331     end        O\n",
       "830512      34331      of        O\n",
       "830513      34331  Virata     BOOK\n",
       "830514      34331   Parva     BOOK\n",
       "\n",
       "[830515 rows x 3 columns]"
      ]
     },
     "execution_count": 4,
     "metadata": {},
     "output_type": "execute_result"
    }
   ],
   "source": [
    "annotations"
   ]
  },
  {
   "cell_type": "code",
   "execution_count": 5,
   "metadata": {
    "colab": {
     "base_uri": "https://localhost:8080/"
    },
    "id": "hc2lv0E9fmDm",
    "outputId": "dea31717-c57e-4e40-9487-e10b802eba31"
   },
   "outputs": [
    {
     "data": {
      "text/plain": [
       "(19573, 830516)"
      ]
     },
     "execution_count": 5,
     "metadata": {},
     "output_type": "execute_result"
    }
   ],
   "source": [
    "words = list(annotations['token'].values)\n",
    "words.append('PADword')\n",
    "n_words = len(set(words))\n",
    "n_words, len(words)"
   ]
  },
  {
   "cell_type": "code",
   "execution_count": 6,
   "metadata": {
    "colab": {
     "base_uri": "https://localhost:8080/"
    },
    "id": "M3rLIjhLfp3N",
    "outputId": "93ae5800-8e40-4b26-fe5f-644267b65507"
   },
   "outputs": [
    {
     "name": "stdout",
     "output_type": "stream",
     "text": [
      "12\n"
     ]
    },
    {
     "data": {
      "text/plain": [
       "['CONCEPT',\n",
       " 'SPECIAL_OBJECT',\n",
       " 'BOOK',\n",
       " 'GROUP',\n",
       " 'PERSON',\n",
       " 'O',\n",
       " 'WATER',\n",
       " 'PLACE',\n",
       " 'TITLE',\n",
       " 'WEAPON',\n",
       " 'PLANT',\n",
       " 'ANIMAL']"
      ]
     },
     "execution_count": 6,
     "metadata": {},
     "output_type": "execute_result"
    }
   ],
   "source": [
    "tags = list(set(annotations[\"tag\"].values))\n",
    "n_tags = len(tags)\n",
    "print(n_tags)\n",
    "tags"
   ]
  },
  {
   "cell_type": "code",
   "execution_count": 7,
   "metadata": {
    "id": "WZteC_p2fr4h"
   },
   "outputs": [],
   "source": [
    "class SentenceGetter(object):\n",
    "    \n",
    "    def __init__(self, data):\n",
    "        self.n_sent = 0\n",
    "        self.data = data\n",
    "        self.empty = False\n",
    "        agg_func = lambda s: [(w, t) for w, t in zip(s[\"token\"].values.tolist(),s[\"tag\"].values.tolist())]\n",
    "        self.grouped = self.data.groupby(\"sentence#\").apply(agg_func)\n",
    "        self.sentences = [s for s in self.grouped]\n",
    "    \n",
    "    def get_next(self):\n",
    "        try:\n",
    "            s = self.grouped[self.n_sent]\n",
    "            self.n_sent += 1\n",
    "            return s\n",
    "        except:\n",
    "            return None"
   ]
  },
  {
   "cell_type": "code",
   "execution_count": 8,
   "metadata": {
    "colab": {
     "base_uri": "https://localhost:8080/"
    },
    "id": "hwNXe6usfr_N",
    "outputId": "480dceca-9ea1-4daf-bc36-6a14f54a3279"
   },
   "outputs": [
    {
     "name": "stdout",
     "output_type": "stream",
     "text": [
      "[('Om', 'CONCEPT'), ('!', 'O')]\n"
     ]
    }
   ],
   "source": [
    "getter = SentenceGetter(annotations)\n",
    "sent = getter.get_next()\n",
    "print(sent)"
   ]
  },
  {
   "cell_type": "code",
   "execution_count": 9,
   "metadata": {
    "colab": {
     "base_uri": "https://localhost:8080/"
    },
    "id": "sVkZ31NVFcc5",
    "outputId": "0150ea5e-296b-4f1c-b063-15307af88d0e"
   },
   "outputs": [
    {
     "name": "stdout",
     "output_type": "stream",
     "text": [
      "34332\n"
     ]
    }
   ],
   "source": [
    "sentences = getter.sentences\n",
    "print(len(sentences))"
   ]
  },
  {
   "cell_type": "code",
   "execution_count": 10,
   "metadata": {
    "colab": {
     "base_uri": "https://localhost:8080/"
    },
    "id": "Cw79xauvfsDR",
    "outputId": "c8efd4a5-7f9c-430b-a01c-1b7f405d647e"
   },
   "outputs": [
    {
     "name": "stdout",
     "output_type": "stream",
     "text": [
      "biggest sentence has 428 words\n"
     ]
    }
   ],
   "source": [
    "largest_sen = max(len(sen) for sen in sentences)\n",
    "print('biggest sentence has {} words'.format(largest_sen))"
   ]
  },
  {
   "cell_type": "code",
   "execution_count": 11,
   "metadata": {
    "colab": {
     "base_uri": "https://localhost:8080/",
     "height": 265
    },
    "id": "LB4viWJLfsII",
    "outputId": "70a4ff1e-41bb-4f47-db41-f37a583be15d"
   },
   "outputs": [
    {
     "data": {
      "image/png": "[encoded data removed]",
      "text/plain": [
       "<Figure size 432x288 with 1 Axes>"
      ]
     },
     "metadata": {
      "needs_background": "light"
     },
     "output_type": "display_data"
    }
   ],
   "source": [
    "import numpy as np\n",
    "import matplotlib.pyplot as plt\n",
    "plt.style.use(\"ggplot\")\n",
    "%matplotlib inline\n",
    "plt.hist([len(s) for s in sentences], bins = 50)\n",
    "plt.show()"
   ]
  },
  {
   "cell_type": "code",
   "execution_count": 12,
   "metadata": {
    "id": "xC2wY8tgfsOD"
   },
   "outputs": [],
   "source": [
    "max_len = 50\n",
    "X = [[w[0] for w in s] for s in sentences]\n",
    "Y = [[w[1] for w in s] for s in sentences]\n",
    "new_X = []\n",
    "y_label = []\n",
    "for k in range(len(X)):\n",
    "    seq = X[k]\n",
    "    j = 0\n",
    "    while(j<len(seq)):\n",
    "        new_seq = []\n",
    "        new_y = []\n",
    "        for i in range(j,j+max_len):\n",
    "            try:\n",
    "                new_seq.append(seq[i])\n",
    "                new_y.append(Y[k][i])\n",
    "            except:\n",
    "                new_seq.append(\"PADword\")\n",
    "                new_y.append('O')\n",
    "        new_X.append(new_seq)\n",
    "        y_label.append(new_y)\n",
    "        j=i+1"
   ]
  },
  {
   "cell_type": "code",
   "execution_count": 13,
   "metadata": {
    "colab": {
     "base_uri": "https://localhost:8080/"
    },
    "id": "MoZehxXhfsRx",
    "outputId": "46f200fe-ec78-4662-fd33-314378bf2ed4"
   },
   "outputs": [
    {
     "data": {
      "text/plain": [
       "{'CONCEPT': 2,\n",
       " 'SPECIAL_OBJECT': 2,\n",
       " 'BOOK': 2,\n",
       " 'GROUP': 1,\n",
       " 'PERSON': 1,\n",
       " 'O': 0,\n",
       " 'WATER': 2,\n",
       " 'PLACE': 2,\n",
       " 'TITLE': 1,\n",
       " 'WEAPON': 2,\n",
       " 'PLANT': 2,\n",
       " 'ANIMAL': 1}"
      ]
     },
     "execution_count": 13,
     "metadata": {},
     "output_type": "execute_result"
    }
   ],
   "source": [
    "import tensorflow as tf\n",
    "from tensorflow.keras.preprocessing.sequence import pad_sequences\n",
    "\n",
    "living_entity_tags = ['ANIMAL','PERSON','GROUP','TITLE']\n",
    "non_living_entity_tags = ['BOOK','PLACE','WEAPON','SPECIAL_OBJECT','PLANT','CONCEPT','WATER']\n",
    "\n",
    "#for extraction of entities\n",
    "tags2index = {}\n",
    "for tag in tags:\n",
    "    if tag not in living_entity_tags and tag not in non_living_entity_tags:\n",
    "        tags2index[tag] = 0\n",
    "    elif tag in living_entity_tags:\n",
    "        tags2index[tag] = 1\n",
    "    else:\n",
    "        tags2index[tag] = 2\n",
    "        \n",
    "# tags2index = {t:i for i,t in enumerate(tags)}\n",
    "y=[]        \n",
    "for labels in y_label:\n",
    "    word_tag = []\n",
    "    for label in labels:\n",
    "#         print(label)\n",
    "        word_tag.append(tags2index[label])\n",
    "    y.append(np.array(word_tag))\n",
    "tags2index"
   ]
  },
  {
   "cell_type": "code",
   "execution_count": 14,
   "metadata": {
    "id": "CoTCJPBrW_mZ"
   },
   "outputs": [],
   "source": [
    "y = np.array(y)"
   ]
  },
  {
   "cell_type": "code",
   "execution_count": 15,
   "metadata": {
    "colab": {
     "base_uri": "https://localhost:8080/"
    },
    "id": "rOGRqoU1Vxmg",
    "outputId": "af1cc69e-0b95-49b0-9e71-679b5cce9ddd"
   },
   "outputs": [
    {
     "data": {
      "text/plain": [
       "(array([2, 0, 0, 0, 0, 0, 0, 0, 0, 0, 0, 0, 0, 0, 0, 0, 0, 0, 0, 0, 0, 0,\n",
       "        0, 0, 0, 0, 0, 0, 0, 0, 0, 0, 0, 0, 0, 0, 0, 0, 0, 0, 0, 0, 0, 0,\n",
       "        0, 0, 0, 0, 0, 0]),\n",
       " ['Om',\n",
       "  '!',\n",
       "  'PADword',\n",
       "  'PADword',\n",
       "  'PADword',\n",
       "  'PADword',\n",
       "  'PADword',\n",
       "  'PADword',\n",
       "  'PADword',\n",
       "  'PADword',\n",
       "  'PADword',\n",
       "  'PADword',\n",
       "  'PADword',\n",
       "  'PADword',\n",
       "  'PADword',\n",
       "  'PADword',\n",
       "  'PADword',\n",
       "  'PADword',\n",
       "  'PADword',\n",
       "  'PADword',\n",
       "  'PADword',\n",
       "  'PADword',\n",
       "  'PADword',\n",
       "  'PADword',\n",
       "  'PADword',\n",
       "  'PADword',\n",
       "  'PADword',\n",
       "  'PADword',\n",
       "  'PADword',\n",
       "  'PADword',\n",
       "  'PADword',\n",
       "  'PADword',\n",
       "  'PADword',\n",
       "  'PADword',\n",
       "  'PADword',\n",
       "  'PADword',\n",
       "  'PADword',\n",
       "  'PADword',\n",
       "  'PADword',\n",
       "  'PADword',\n",
       "  'PADword',\n",
       "  'PADword',\n",
       "  'PADword',\n",
       "  'PADword',\n",
       "  'PADword',\n",
       "  'PADword',\n",
       "  'PADword',\n",
       "  'PADword',\n",
       "  'PADword',\n",
       "  'PADword'])"
      ]
     },
     "execution_count": 15,
     "metadata": {},
     "output_type": "execute_result"
    }
   ],
   "source": [
    "y[0], new_X[0]"
   ]
  },
  {
   "cell_type": "code",
   "execution_count": 16,
   "metadata": {
    "colab": {
     "base_uri": "https://localhost:8080/"
    },
    "id": "l92dMtJ5NiIz",
    "outputId": "3c550425-c1e3-4b18-a365-88b5c658defa"
   },
   "outputs": [
    {
     "name": "stdout",
     "output_type": "stream",
     "text": [
      "Requirement already satisfied: transformers in /home/shreya15096/.conda/envs/virtualEnv/lib/python3.9/site-packages (4.9.2)\n",
      "Requirement already satisfied: requests in /home/shreya15096/.local/lib/python3.9/site-packages (from transformers) (2.26.0)\n",
      "Requirement already satisfied: tokenizers<0.11,>=0.10.1 in /home/shreya15096/.local/lib/python3.9/site-packages (from transformers) (0.10.3)\n",
      "Requirement already satisfied: filelock in /home/shreya15096/.local/lib/python3.9/site-packages (from transformers) (3.0.12)\n",
      "Requirement already satisfied: pyyaml>=5.1 in /home/shreya15096/.local/lib/python3.9/site-packages (from transformers) (5.4.1)\n",
      "Requirement already satisfied: huggingface-hub==0.0.12 in /home/shreya15096/.local/lib/python3.9/site-packages (from transformers) (0.0.12)\n",
      "Requirement already satisfied: tqdm>=4.27 in /home/shreya15096/.local/lib/python3.9/site-packages (from transformers) (4.61.2)\n",
      "Requirement already satisfied: regex!=2019.12.17 in /home/shreya15096/.local/lib/python3.9/site-packages (from transformers) (2021.7.6)\n",
      "Requirement already satisfied: packaging in /home/shreya15096/.local/lib/python3.9/site-packages (from transformers) (21.0)\n",
      "Requirement already satisfied: numpy>=1.17 in /home/shreya15096/.conda/envs/virtualEnv/lib/python3.9/site-packages (from transformers) (1.19.5)\n",
      "Requirement already satisfied: sacremoses in /home/shreya15096/.local/lib/python3.9/site-packages (from transformers) (0.0.45)\n",
      "Requirement already satisfied: typing-extensions in /home/shreya15096/.local/lib/python3.9/site-packages (from huggingface-hub==0.0.12->transformers) (3.7.4.3)\n",
      "Requirement already satisfied: pyparsing>=2.0.2 in /home/shreya15096/.local/lib/python3.9/site-packages (from packaging->transformers) (2.4.7)\n",
      "Requirement already satisfied: charset-normalizer~=2.0.0 in /home/shreya15096/.local/lib/python3.9/site-packages (from requests->transformers) (2.0.3)\n",
      "Requirement already satisfied: idna<4,>=2.5 in /home/shreya15096/.local/lib/python3.9/site-packages (from requests->transformers) (3.2)\n",
      "Requirement already satisfied: urllib3<1.27,>=1.21.1 in /home/shreya15096/.local/lib/python3.9/site-packages (from requests->transformers) (1.26.6)\n",
      "Requirement already satisfied: certifi>=2017.4.17 in /home/shreya15096/.conda/envs/virtualEnv/lib/python3.9/site-packages (from requests->transformers) (2021.5.30)\n",
      "Requirement already satisfied: six in /home/shreya15096/.local/lib/python3.9/site-packages (from sacremoses->transformers) (1.15.0)\n",
      "Requirement already satisfied: joblib in /home/shreya15096/.local/lib/python3.9/site-packages (from sacremoses->transformers) (1.0.1)\n",
      "Requirement already satisfied: click in /home/shreya15096/.conda/envs/virtualEnv/lib/python3.9/site-packages (from sacremoses->transformers) (7.1.2)\n",
      "Note: you may need to restart the kernel to use updated packages.\n"
     ]
    }
   ],
   "source": [
    "pip install transformers"
   ]
  },
  {
   "cell_type": "code",
   "execution_count": 17,
   "metadata": {
    "colab": {
     "base_uri": "https://localhost:8080/"
    },
    "id": "gRe9L-pSTDgW",
    "outputId": "1aa2046e-66dc-4c2e-8dbb-95fe7c9777da"
   },
   "outputs": [
    {
     "data": {
      "text/plain": [
       "36078"
      ]
     },
     "execution_count": 17,
     "metadata": {},
     "output_type": "execute_result"
    }
   ],
   "source": [
    "len(new_X)"
   ]
  },
  {
   "cell_type": "code",
   "execution_count": 18,
   "metadata": {
    "id": "xgR7YfZIO9f9"
   },
   "outputs": [],
   "source": [
    "import keras\n",
    "from sklearn.model_selection import train_test_split\n",
    "import tensorflow_hub as hub\n",
    "import tensorflow as tf\n",
    "from tensorflow.keras import Model, Input\n",
    "from tensorflow.keras.layers import add, LSTM, Embedding, Dense, TimeDistributed, Dropout, Bidirectional, Lambda,concatenate\n",
    "import seqeval\n",
    "from seqeval.metrics import precision_score, recall_score, f1_score, classification_report"
   ]
  },
  {
   "cell_type": "code",
   "execution_count": 19,
   "metadata": {
    "id": "A0ZhrJHkVwsG"
   },
   "outputs": [],
   "source": [
    "X_tr, X_te, y_tr, y_te = train_test_split(new_X, y, test_size=0.1, random_state=2021)\n",
    "batch_size = 32"
   ]
  },
  {
   "cell_type": "code",
   "execution_count": 20,
   "metadata": {
    "id": "RiwK9AHmFr9w"
   },
   "outputs": [],
   "source": [
    "from transformers import BertTokenizer\n",
    "bert = 'farhanjafri/my-model'\n",
    "\n",
    "# Defining BERT tokonizer\n",
    "tokenizer = BertTokenizer.from_pretrained(bert, do_lower_case=True, add_special_tokens=True,\n",
    "                                                max_length=max_len, padding=True)"
   ]
  },
  {
   "cell_type": "code",
   "execution_count": 21,
   "metadata": {
    "id": "znayTdGDW8H8"
   },
   "outputs": [],
   "source": [
    "def tokenize(sentences, tokenizer):\n",
    "    input_ids, input_masks, input_segments = [],[],[]\n",
    "    for i in range(len(sentences)):\n",
    "        inputs = tokenizer.encode_plus(sentences[i], add_special_tokens=True, max_length=max_len, padding=True, \n",
    "                                             return_attention_mask=True, return_token_type_ids=True,truncation=True)\n",
    "        input_ids.append(inputs['input_ids'])\n",
    "        input_masks.append(inputs['attention_mask'])\n",
    "        input_segments.append(inputs['token_type_ids'])        \n",
    "        \n",
    "    return np.asarray(input_ids, dtype='int32'), np.asarray(input_masks, dtype='int32'), np.asarray(input_segments, dtype='int32')\n"
   ]
  },
  {
   "cell_type": "code",
   "execution_count": 22,
   "metadata": {
    "colab": {
     "base_uri": "https://localhost:8080/"
    },
    "id": "50XtvNtHcdSv",
    "outputId": "a3271450-1962-4801-8282-d129b49e2108"
   },
   "outputs": [
    {
     "data": {
      "text/plain": [
       "(32470, 3608, 32, 1014.6875, 112.75)"
      ]
     },
     "execution_count": 22,
     "metadata": {},
     "output_type": "execute_result"
    }
   ],
   "source": [
    "len(X_tr), len(X_te), batch_size,len(X_tr)/batch_size, len(X_te)/batch_size "
   ]
  },
  {
   "cell_type": "code",
   "execution_count": 23,
   "metadata": {
    "id": "5G1GUdk3nro3"
   },
   "outputs": [],
   "source": [
    "X_tr, X_val = X_tr[:914*batch_size], X_tr[-100*batch_size:]\n",
    "y_tr, y_val = y_tr[:914*batch_size], y_tr[-100*batch_size:]\n",
    "#y_tr = y_tr.reshape(y_tr.shape[0], y_tr.shape[1], 1)\n",
    "#y_val = y_val.reshape(y_val.shape[0], y_val.shape[1], 1)"
   ]
  },
  {
   "cell_type": "code",
   "execution_count": 24,
   "metadata": {
    "id": "li1cFZvrnt28"
   },
   "outputs": [],
   "source": [
    "X_tr_in,X_tr_mask,_ = np.array(tokenize(X_tr,tokenizer))\n",
    "X_val_in,X_val_mask,_ = np.array(tokenize(X_val,tokenizer))\n",
    "X_te_in,X_te_mask,_ = np.array(tokenize(X_te,tokenizer))\n",
    "#y_tr_in,y_tr_mask,_ = np.array(tokenize(y_tr,tokenizer))\n",
    "#y_val_in,y_val_mask,_ = np.array(tokenize(y_val,tokenizer))"
   ]
  },
  {
   "cell_type": "code",
   "execution_count": 28,
   "metadata": {
    "id": "FeMkQ20HQyQB"
   },
   "outputs": [],
   "source": [
    "from transformers import TFBertForPreTraining, BertConfig"
   ]
  },
  {
   "cell_type": "code",
   "execution_count": 30,
   "metadata": {
    "colab": {
     "base_uri": "https://localhost:8080/"
    },
    "id": "t1tAdekNOCVD",
    "outputId": "c219f339-83a3-4f90-fd7d-c412849e183d"
   },
   "outputs": [
    {
     "name": "stderr",
     "output_type": "stream",
     "text": [
      "All model checkpoint layers were used when initializing TFBertForPreTraining.\n",
      "\n",
      "All the layers of TFBertForPreTraining were initialized from the model checkpoint at farhanjafri/my-model.\n",
      "If your task is similar to the task the model of the checkpoint was trained on, you can already use TFBertForPreTraining for predictions without further training.\n"
     ]
    },
    {
     "name": "stdout",
     "output_type": "stream",
     "text": [
      "WARNING:tensorflow:The parameters `output_attentions`, `output_hidden_states` and `use_cache` cannot be updated when calling a model.They have to be set to True/False in the config object (i.e.: `config=XConfig.from_pretrained('name', output_attentions=True)`).\n",
      "WARNING:tensorflow:The parameter `return_dict` cannot be set in graph mode and will always be set to `True`.\n",
      "Model: \"model_1\"\n",
      "__________________________________________________________________________________________________\n",
      "Layer (type)                    Output Shape         Param #     Connected to                     \n",
      "==================================================================================================\n",
      "input_token (InputLayer)        [(None, 50)]         0                                            \n",
      "__________________________________________________________________________________________________\n",
      "masked_token (InputLayer)       [(None, 50)]         0                                            \n",
      "__________________________________________________________________________________________________\n",
      "tf_bert_for_pre_training_1 (TFB TFBertForPreTraining 110106428   input_token[0][0]                \n",
      "                                                                 masked_token[0][0]               \n",
      "__________________________________________________________________________________________________\n",
      "bidirectional_2 (Bidirectional) (None, 50, 1024)     127119360   tf_bert_for_pre_training_1[0][0] \n",
      "__________________________________________________________________________________________________\n",
      "bidirectional_3 (Bidirectional) (None, 50, 1024)     6295552     bidirectional_2[0][0]            \n",
      "__________________________________________________________________________________________________\n",
      "add_3 (Add)                     (None, 50, 1024)     0           bidirectional_2[0][0]            \n",
      "                                                                 bidirectional_3[0][0]            \n",
      "__________________________________________________________________________________________________\n",
      "time_distributed_1 (TimeDistrib (None, 50, 3)        3075        add_3[0][0]                      \n",
      "==================================================================================================\n",
      "Total params: 243,524,415\n",
      "Trainable params: 133,417,987\n",
      "Non-trainable params: 110,106,428\n",
      "__________________________________________________________________________________________________\n"
     ]
    }
   ],
   "source": [
    "config = BertConfig(dropout=0.2, attention_dropout=0.2)\n",
    "config.output_hidden_states = False\n",
    "transformer_model = TFBertForPreTraining.from_pretrained(bert)\n",
    "\n",
    "input_ids_in=tf.keras.layers.Input(shape=(max_len,),name='input_token',dtype='int32')\n",
    "input_masks_in = tf.keras.layers.Input(shape=(max_len,),name='masked_token',dtype='int32')\n",
    "#input_segments_in = tf.keras.layers.Input(shape=(max_len,),name='segment_token',dtype='int32')\n",
    "\n",
    "embedding_layer = transformer_model([input_ids_in,input_masks_in])[0]\n",
    "#cls_token = embedding_layer[:,0,:]\n",
    "x = Bidirectional(LSTM(units=512, return_sequences=True,\n",
    "                       recurrent_dropout=0.2, dropout=0.2))(embedding_layer)\n",
    "x_rnn = Bidirectional(LSTM(units=512, return_sequences=True,\n",
    "                           recurrent_dropout=0.2, dropout=0.2) )(x)\n",
    "x = add([x, x_rnn])  \n",
    "# out = TimeDistributed(Dense(12, activation=\"softmax\"))(x)\n",
    "out = TimeDistributed(Dense(3, activation=\"softmax\"))(x)\n",
    "model = Model([input_ids_in,input_masks_in], out)\n",
    "\n",
    "for layer in model.layers[:3]:\n",
    "    layer.trainable = False\n",
    "\n",
    "model.summary()"
   ]
  },
  {
   "cell_type": "code",
   "execution_count": 31,
   "metadata": {
    "id": "A7qAktVaVW5h"
   },
   "outputs": [],
   "source": [
    "model.compile(optimizer=\"adam\", loss=\"sparse_categorical_crossentropy\", metrics=[\"accuracy\"])"
   ]
  },
  {
   "cell_type": "code",
   "execution_count": 32,
   "metadata": {
    "colab": {
     "base_uri": "https://localhost:8080/"
    },
    "id": "04blLdObWB4N",
    "outputId": "87d9d1f0-6928-40e0-aa33-73ac7b64420a"
   },
   "outputs": [
    {
     "name": "stdout",
     "output_type": "stream",
     "text": [
      "Requirement already satisfied: livelossplot in /home/shreya15096/.conda/envs/virtualEnv/lib/python3.9/site-packages (0.5.4)\n",
      "Requirement already satisfied: matplotlib in /home/shreya15096/.conda/envs/virtualEnv/lib/python3.9/site-packages (from livelossplot) (3.4.2)\n",
      "Requirement already satisfied: bokeh in /home/shreya15096/.conda/envs/virtualEnv/lib/python3.9/site-packages (from livelossplot) (2.3.3)\n",
      "Requirement already satisfied: ipython in /home/shreya15096/.conda/envs/virtualEnv/lib/python3.9/site-packages (from livelossplot) (7.25.0)\n",
      "Requirement already satisfied: Jinja2>=2.9 in /home/shreya15096/.conda/envs/virtualEnv/lib/python3.9/site-packages (from bokeh->livelossplot) (3.0.1)\n",
      "Requirement already satisfied: PyYAML>=3.10 in /home/shreya15096/.local/lib/python3.9/site-packages (from bokeh->livelossplot) (5.4.1)\n",
      "Requirement already satisfied: numpy>=1.11.3 in /home/shreya15096/.conda/envs/virtualEnv/lib/python3.9/site-packages (from bokeh->livelossplot) (1.19.5)\n",
      "Requirement already satisfied: tornado>=5.1 in /home/shreya15096/.conda/envs/virtualEnv/lib/python3.9/site-packages (from bokeh->livelossplot) (6.1)\n",
      "Requirement already satisfied: packaging>=16.8 in /home/shreya15096/.local/lib/python3.9/site-packages (from bokeh->livelossplot) (21.0)\n",
      "Requirement already satisfied: typing-extensions>=3.7.4 in /home/shreya15096/.local/lib/python3.9/site-packages (from bokeh->livelossplot) (3.7.4.3)\n",
      "Requirement already satisfied: python-dateutil>=2.1 in /home/shreya15096/.conda/envs/virtualEnv/lib/python3.9/site-packages (from bokeh->livelossplot) (2.8.2)\n",
      "Requirement already satisfied: pillow>=7.1.0 in /home/shreya15096/.conda/envs/virtualEnv/lib/python3.9/site-packages (from bokeh->livelossplot) (8.3.1)\n",
      "Requirement already satisfied: MarkupSafe>=2.0 in /home/shreya15096/.conda/envs/virtualEnv/lib/python3.9/site-packages (from Jinja2>=2.9->bokeh->livelossplot) (2.0.1)\n",
      "Requirement already satisfied: pyparsing>=2.0.2 in /home/shreya15096/.local/lib/python3.9/site-packages (from packaging>=16.8->bokeh->livelossplot) (2.4.7)\n",
      "Requirement already satisfied: six>=1.5 in /home/shreya15096/.local/lib/python3.9/site-packages (from python-dateutil>=2.1->bokeh->livelossplot) (1.15.0)\n",
      "Requirement already satisfied: prompt-toolkit!=3.0.0,!=3.0.1,<3.1.0,>=2.0.0 in /home/shreya15096/.conda/envs/virtualEnv/lib/python3.9/site-packages (from ipython->livelossplot) (3.0.17)\n",
      "Requirement already satisfied: matplotlib-inline in /home/shreya15096/.conda/envs/virtualEnv/lib/python3.9/site-packages (from ipython->livelossplot) (0.1.2)\n",
      "Requirement already satisfied: jedi>=0.16 in /home/shreya15096/.conda/envs/virtualEnv/lib/python3.9/site-packages (from ipython->livelossplot) (0.18.0)\n",
      "Requirement already satisfied: pexpect>4.3 in /home/shreya15096/.conda/envs/virtualEnv/lib/python3.9/site-packages (from ipython->livelossplot) (4.8.0)\n",
      "Requirement already satisfied: decorator in /home/shreya15096/.conda/envs/virtualEnv/lib/python3.9/site-packages (from ipython->livelossplot) (5.0.9)\n",
      "Requirement already satisfied: pygments in /home/shreya15096/.conda/envs/virtualEnv/lib/python3.9/site-packages (from ipython->livelossplot) (2.9.0)\n",
      "Requirement already satisfied: backcall in /home/shreya15096/.conda/envs/virtualEnv/lib/python3.9/site-packages (from ipython->livelossplot) (0.2.0)\n",
      "Requirement already satisfied: pickleshare in /home/shreya15096/.conda/envs/virtualEnv/lib/python3.9/site-packages (from ipython->livelossplot) (0.7.5)\n",
      "Requirement already satisfied: traitlets>=4.2 in /home/shreya15096/.conda/envs/virtualEnv/lib/python3.9/site-packages (from ipython->livelossplot) (5.0.5)\n",
      "Requirement already satisfied: setuptools>=18.5 in /home/shreya15096/.conda/envs/virtualEnv/lib/python3.9/site-packages (from ipython->livelossplot) (52.0.0.post20210125)\n",
      "Requirement already satisfied: parso<0.9.0,>=0.8.0 in /home/shreya15096/.conda/envs/virtualEnv/lib/python3.9/site-packages (from jedi>=0.16->ipython->livelossplot) (0.8.2)\n",
      "Requirement already satisfied: ptyprocess>=0.5 in /home/shreya15096/.conda/envs/virtualEnv/lib/python3.9/site-packages (from pexpect>4.3->ipython->livelossplot) (0.7.0)\n",
      "Requirement already satisfied: wcwidth in /home/shreya15096/.conda/envs/virtualEnv/lib/python3.9/site-packages (from prompt-toolkit!=3.0.0,!=3.0.1,<3.1.0,>=2.0.0->ipython->livelossplot) (0.2.5)\n",
      "Requirement already satisfied: ipython-genutils in /home/shreya15096/.conda/envs/virtualEnv/lib/python3.9/site-packages (from traitlets>=4.2->ipython->livelossplot) (0.2.0)\n",
      "Requirement already satisfied: kiwisolver>=1.0.1 in /home/shreya15096/.conda/envs/virtualEnv/lib/python3.9/site-packages (from matplotlib->livelossplot) (1.3.1)\n",
      "Requirement already satisfied: cycler>=0.10 in /home/shreya15096/.conda/envs/virtualEnv/lib/python3.9/site-packages (from matplotlib->livelossplot) (0.10.0)\n",
      "Note: you may need to restart the kernel to use updated packages.\n"
     ]
    }
   ],
   "source": [
    "pip install livelossplot"
   ]
  },
  {
   "cell_type": "code",
   "execution_count": 33,
   "metadata": {
    "id": "-bUqJRsfWB1K"
   },
   "outputs": [],
   "source": [
    "from livelossplot import PlotLossesKeras\n",
    "from tensorflow.keras.callbacks import EarlyStopping\n",
    "#early_stopping = EarlyStopping(monitor='val_accuray', min_delta=0, patience=2, verbose=0, mode='max', baseline=None, restore_best_weights=False)\n",
    "callbacks = [PlotLossesKeras()]"
   ]
  },
  {
   "cell_type": "code",
   "execution_count": 34,
   "metadata": {
    "colab": {
     "base_uri": "https://localhost:8080/",
     "height": 724
    },
    "id": "hwCdtsDSWBym",
    "outputId": "6970f52a-1654-4410-d76f-4e79a802dfbc"
   },
   "outputs": [
    {
     "data": {
      "image/png": "[encoded data removed]",
      "text/plain": [
       "<Figure size 864x576 with 2 Axes>"
      ]
     },
     "metadata": {
      "needs_background": "light"
     },
     "output_type": "display_data"
    },
    {
     "name": "stdout",
     "output_type": "stream",
     "text": [
      "accuracy\n",
      "\ttraining         \t (min:    0.714, max:    0.975, cur:    0.975)\n",
      "\tvalidation       \t (min:    0.976, max:    0.976, cur:    0.976)\n",
      "Loss\n",
      "\ttraining         \t (min:    0.403, max:    0.718, cur:    0.403)\n",
      "\tvalidation       \t (min:    0.393, max:    0.393, cur:    0.393)\n"
     ]
    }
   ],
   "source": [
    "history = model.fit([X_tr_in[:100],X_tr_mask[:100]],y_tr[:100],\n",
    "                    validation_data=([X_val_in[:100],X_val_mask[:100]],y_val[:100]),\n",
    "                    batch_size=batch_size, \n",
    "                    epochs=10,\n",
    "                    callbacks=[callbacks], \n",
    "                    verbose=1)"
   ]
  },
  {
   "cell_type": "code",
   "execution_count": 35,
   "metadata": {
    "id": "Jyh9qJLxfKns"
   },
   "outputs": [],
   "source": [
    "X_te = X_te[:112*batch_size]\n",
    "y_te = y_te[:112*batch_size]\n",
    "X_te_in,X_te_mask,_ = np.array(tokenize(X_te,tokenizer))\n"
   ]
  },
  {
   "cell_type": "code",
   "execution_count": 36,
   "metadata": {
    "colab": {
     "base_uri": "https://localhost:8080/"
    },
    "id": "mcskiY4sWBtL",
    "outputId": "1ea5a4c7-d557-4c4f-84d2-011e32293b7a"
   },
   "outputs": [
    {
     "name": "stdout",
     "output_type": "stream",
     "text": [
      "WARNING:tensorflow:AutoGraph could not transform <function Model.make_predict_function.<locals>.predict_function at 0x7f97506d5d30> and will run it as-is.\n",
      "Please report this to the TensorFlow team. When filing the bug, set the verbosity to 10 (on Linux, `export AUTOGRAPH_VERBOSITY=10`) and attach the full output.\n",
      "Cause: module 'gast' has no attribute 'Constant'\n",
      "To silence this warning, decorate the function with @tf.autograph.experimental.do_not_convert\n",
      "WARNING: AutoGraph could not transform <function Model.make_predict_function.<locals>.predict_function at 0x7f97506d5d30> and will run it as-is.\n",
      "Please report this to the TensorFlow team. When filing the bug, set the verbosity to 10 (on Linux, `export AUTOGRAPH_VERBOSITY=10`) and attach the full output.\n",
      "Cause: module 'gast' has no attribute 'Constant'\n",
      "To silence this warning, decorate the function with @tf.autograph.experimental.do_not_convert\n",
      "WARNING:tensorflow:The parameters `output_attentions`, `output_hidden_states` and `use_cache` cannot be updated when calling a model.They have to be set to True/False in the config object (i.e.: `config=XConfig.from_pretrained('name', output_attentions=True)`).\n",
      "WARNING:tensorflow:The parameter `return_dict` cannot be set in graph mode and will always be set to `True`.\n",
      "112/112 [==============================] - 513s 5s/step\n"
     ]
    }
   ],
   "source": [
    "preds = model.predict([X_te_in,X_te_mask], verbose=1, batch_size=batch_size)"
   ]
  },
  {
   "cell_type": "code",
   "execution_count": 37,
   "metadata": {
    "id": "rNSH9O9DWBkt"
   },
   "outputs": [],
   "source": [
    "# in case of classification\n",
    "# idx2tag = {i: w for w, i in tags2index.items()}\n",
    "\n",
    "# in case of extraction of entities\n",
    "idx2tag = {}\n",
    "for k,v in tags2index.items():\n",
    "    if v == 0:\n",
    "        idx2tag[v] = 'O'\n",
    "    elif v == 1:\n",
    "        idx2tag[v] = \"LIVING\"\n",
    "    else:\n",
    "        idx2tag[v] = \"NON-LIVING\"\n",
    "        \n",
    "def pred2label(pred):\n",
    "    out = []\n",
    "    for pred_i in pred:\n",
    "        out_i = []\n",
    "        for p in pred_i:\n",
    "            p_i = np.argmax(p)\n",
    "            out_i.append(idx2tag[p_i].replace(\"PADword\", \"O\"))\n",
    "        out.append(out_i)\n",
    "    return out\n",
    "\n",
    "def test2label(pred):\n",
    "    out = []\n",
    "    for pred_i in pred:\n",
    "        out_i = []\n",
    "        for p in pred_i:\n",
    "            out_i.append(idx2tag[p].replace(\"PADword\", \"O\"))\n",
    "        out.append(out_i)\n",
    "    return out"
   ]
  },
  {
   "cell_type": "code",
   "execution_count": 38,
   "metadata": {
    "id": "y11RspyNszki"
   },
   "outputs": [],
   "source": [
    "pred_labels = pred2label(preds)"
   ]
  },
  {
   "cell_type": "code",
   "execution_count": 39,
   "metadata": {
    "id": "J4gme--4szVp"
   },
   "outputs": [],
   "source": [
    "test_labels = test2label(y_te)"
   ]
  },
  {
   "cell_type": "code",
   "execution_count": 40,
   "metadata": {
    "colab": {
     "base_uri": "https://localhost:8080/"
    },
    "id": "mLhEXjByszRa",
    "outputId": "ad65c45f-c81d-405f-b647-3f098d01f5c3"
   },
   "outputs": [
    {
     "name": "stderr",
     "output_type": "stream",
     "text": [
      "/home/shreya15096/.conda/envs/virtualEnv/lib/python3.9/site-packages/seqeval/metrics/sequence_labeling.py:171: UserWarning: LIVING seems not to be NE tag.\n",
      "  warnings.warn('{} seems not to be NE tag.'.format(chunk))\n",
      "/home/shreya15096/.conda/envs/virtualEnv/lib/python3.9/site-packages/seqeval/metrics/sequence_labeling.py:171: UserWarning: NON-LIVING seems not to be NE tag.\n",
      "  warnings.warn('{} seems not to be NE tag.'.format(chunk))\n",
      "/home/shreya15096/.conda/envs/virtualEnv/lib/python3.9/site-packages/seqeval/metrics/v1.py:57: UndefinedMetricWarning: Recall and F-score are ill-defined and being set to 0.0 in labels with no true samples. Use `zero_division` parameter to control this behavior.\n",
      "  _warn_prf(average, modifier, msg_start, len(result))\n",
      "/home/shreya15096/.conda/envs/virtualEnv/lib/python3.9/site-packages/seqeval/metrics/v1.py:57: UndefinedMetricWarning: Recall and F-score are ill-defined and being set to 0.0 due to no true samples. Use `zero_division` parameter to control this behavior.\n",
      "  _warn_prf(average, modifier, msg_start, len(result))\n"
     ]
    },
    {
     "name": "stdout",
     "output_type": "stream",
     "text": [
      "              precision    recall  f1-score   support\n",
      "\n",
      "       IVING       0.00      0.00      0.00         0\n",
      "      LIVING       0.00      0.00      0.00         0\n",
      "\n",
      "   micro avg       0.00      0.00      0.00         0\n",
      "   macro avg       0.00      0.00      0.00         0\n",
      "weighted avg       0.00      0.00      0.00         0\n",
      "\n"
     ]
    }
   ],
   "source": [
    "print(classification_report(pred_labels, test_labels))"
   ]
  },
  {
   "cell_type": "code",
   "execution_count": 41,
   "metadata": {
    "colab": {
     "base_uri": "https://localhost:8080/"
    },
    "id": "czxuU_YbszLj",
    "outputId": "3d7917d7-f828-406d-b551-17d1737432e5"
   },
   "outputs": [
    {
     "name": "stdout",
     "output_type": "stream",
     "text": [
      "0.0\n"
     ]
    }
   ],
   "source": [
    "print(f1_score(pred_labels, test_labels,average='micro'))"
   ]
  },
  {
   "cell_type": "code",
   "execution_count": null,
   "metadata": {
    "id": "LnFGjeaywxg7"
   },
   "outputs": [],
   "source": []
  }
 ],
 "metadata": {
  "accelerator": "GPU",
  "colab": {
   "collapsed_sections": [],
   "name": "Bert-Uncased_Extract_Living_Non_Living.ipynb",
   "provenance": []
  },
  "kernelspec": {
   "display_name": "Python 3",
   "language": "python",
   "name": "python3"
  },
  "language_info": {
   "codemirror_mode": {
    "name": "ipython",
    "version": 3
   },
   "file_extension": ".py",
   "mimetype": "text/x-python",
   "name": "python",
   "nbconvert_exporter": "python",
   "pygments_lexer": "ipython3",
   "version": "3.9.5"
  }
 },
 "nbformat": 4,
 "nbformat_minor": 1
}
